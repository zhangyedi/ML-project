{
 "cells": [
  {
   "cell_type": "code",
   "execution_count": 1,
   "metadata": {},
   "outputs": [
    {
     "name": "stdout",
     "output_type": "stream",
     "text": [
      "G:\\dd-resource\\slides\\homework\\ML\\HW1\n"
     ]
    }
   ],
   "source": [
    "cd G:\\dd-resource\\slides\\homework\\ML\\HW1"
   ]
  },
  {
   "cell_type": "markdown",
   "metadata": {},
   "source": [
    "# This is an implemetation of gradient_descent with Huber Loss."
   ]
  },
  {
   "cell_type": "code",
   "execution_count": 2,
   "metadata": {
    "collapsed": true
   },
   "outputs": [],
   "source": [
    "import numpy as np\n",
    "import pylab"
   ]
  },
  {
   "cell_type": "code",
   "execution_count": 3,
   "metadata": {
    "collapsed": true
   },
   "outputs": [],
   "source": [
    "def huber_loss(x,d):\n",
    "    x=np.abs(x)\n",
    "    return (x<=d)*x**2/2+(x>d)*d*(x-d/2.0)"
   ]
  },
  {
   "cell_type": "code",
   "execution_count": 4,
   "metadata": {
    "collapsed": true
   },
   "outputs": [],
   "source": [
    "def gradient_descent2(alpha, x, y, d,accurancy, max_iter=10000):\n",
    "    converged = False\n",
    "    iter = 0\n",
    "    m = x.shape[0]  # number of samples\n",
    "\n",
    "    # initial theta\n",
    "    # np.random.seed(1)\n",
    "    t0 = np.random.random()\n",
    "    t1 = np.random.random()\n",
    "\n",
    "    # total error, J(theta)\n",
    "    # J = sum([(t0 + t1 * x[i] - y[i]) ** 2 for i in range(m)])\n",
    "    J = sum([huber_loss((t0 + t1 * x[i] - y[i]), d) for i in range(m)])\n",
    "\n",
    "    # Iterate Loop\n",
    "    while not converged:\n",
    "        # for each training sample, compute the gradient (d/d_theta j(theta))\n",
    "        # grad0 = 1.0 / m * sum([(t0 + t1 * x[i] - y[i]) for i in range(m)])\n",
    "        # grad1 = 1.0 / m * sum([(t0 + t1 * x[i] - y[i]) * x[i] for i in range(m)])\n",
    "        grad0=0\n",
    "        for i in range(m):\n",
    "            uni_err=t0 + t1 * x[i] - y[i]\n",
    "            if(np.abs(uni_err)<=d):\n",
    "                grad0=grad0+ uni_err/2\n",
    "            elif(uni_err>d):\n",
    "                grad0=grad0+d/2\n",
    "            elif(uni_err<-d):\n",
    "                grad0=grad0-d/2\n",
    "        grad0=grad0/m\n",
    "\n",
    "        grad1 = 0\n",
    "\n",
    "        for i in range(m):\n",
    "            uni_err = t0 + t1 * x[i] - y[i]\n",
    "            if (np.abs(uni_err) <= d):\n",
    "                grad1 = grad1 + uni_err * x[i] / 2\n",
    "            elif (uni_err > d):\n",
    "                grad1 = grad1 + d * x[i] / 2\n",
    "            elif (uni_err < -d):\n",
    "                grad1 = grad1 - d * x[i] / 2\n",
    "\n",
    "        grad1 = grad1 / m\n",
    "\n",
    "        # update the theta_temp\n",
    "        temp0 = t0 - alpha * grad0\n",
    "        temp1 = t1 - alpha * grad1\n",
    "\n",
    "        # update theta\n",
    "        t0 = temp0\n",
    "        t1 = temp1\n",
    "\n",
    "        # mean squared error\n",
    "        #e = sum([(t0 + t1 * x[i] - y[i]) ** 2 for i in range(m)])\n",
    "        e = sum([huber_loss((t0 + t1 * x[i] - y[i]), d) for i in range(m)])\n",
    "\n",
    "        if abs(J - e) <= accurancy:\n",
    "            print(\"Converged, iterations: \", iter, \"!!!\")\n",
    "            converged = True\n",
    "\n",
    "        J = e  # update error\n",
    "        iter += 1  # update iter\n",
    "\n",
    "        if iter == max_iter:\n",
    "            print(\"Max interactions exceeded!\")\n",
    "            converged = True\n",
    "\n",
    "    return t0, t1, J"
   ]
  },
  {
   "cell_type": "code",
   "execution_count": 5,
   "metadata": {
    "collapsed": true
   },
   "outputs": [],
   "source": [
    "def gradient_descent1(alpha, x, y, accurancy, max_iter=10000):\n",
    "    converged = False\n",
    "    iter = 0\n",
    "    m = x.shape[0]  # number of samples\n",
    "\n",
    "    # initial theta\n",
    "    # np.random.seed(1)\n",
    "    t0 = np.random.random()\n",
    "    t1 = np.random.random()\n",
    "\n",
    "    # total error, J(theta)\n",
    "\n",
    "    J = sum([(t0 + t1 * x[i] - y[i]) ** 2 for i in range(m)])\n",
    "    # J = sum([huber_loss((t0 + t1 * x[i] - y[i]),d) for i in range (m)])\n",
    "    # Iterate Loop\n",
    "    while not converged:\n",
    "        # for each training sample, compute the gradient (d/d_theta j(theta))\n",
    "        grad0 = 1.0 / m * sum([(t0 + t1 * x[i] - y[i]) for i in range(m)])\n",
    "        grad1 = 1.0 / m * sum([(t0 + t1 * x[i] - y[i]) * x[i] for i in range(m)])\n",
    "\n",
    "        # update the theta_temp\n",
    "        temp0 = t0 - alpha * grad0\n",
    "        temp1 = t1 - alpha * grad1\n",
    "\n",
    "        # update theta\n",
    "        t0 = temp0\n",
    "        t1 = temp1\n",
    "\n",
    "        # mean squared error\n",
    "        e = sum([(t0 + t1 * x[i] - y[i]) ** 2 for i in range(m)])\n",
    "        # e = sum([huber_loss((t0 + t1 * x[i] - y[i]), d)for i in range(m)] )\n",
    "\n",
    "        if abs(J - e) <= accurancy:\n",
    "            print(\"Converged, iterations: \", iter, \"!!!\")\n",
    "            converged = True\n",
    "\n",
    "        J = e  # update error\n",
    "        iter += 1  # update iter\n",
    "\n",
    "        if iter == max_iter:\n",
    "            print(\"Max interactions exceeded!\")\n",
    "            converged = True\n",
    "\n",
    "    return t0, t1, J"
   ]
  },
  {
   "cell_type": "code",
   "execution_count": 6,
   "metadata": {},
   "outputs": [],
   "source": [
    "def test_best_d_value():\n",
    "    edges,x_points, y_points = read_file(1)\n",
    "    alpha = 0.01  # learning rate\n",
    "    accurancy = 1e-10  # convergence criteria\n",
    "    for d in (0.2,0.3,0.4,0.5,0.7,1,3,5):\n",
    "        best_theta0_d, best_theta1_d, error_d = gradient_descent2(alpha, x_points, y_points, d, accurancy,\n",
    "                                                                 max_iter=10000)\n",
    "        pylab.plot(d, error_d,'o-',color='green')\n",
    "    pylab.show()"
   ]
  },
  {
   "cell_type": "code",
   "execution_count": 7,
   "metadata": {
    "collapsed": true
   },
   "outputs": [],
   "source": [
    "def read_file(num):\n",
    "    def read_data(edge):\n",
    "        x, y = edge.split()\n",
    "        return int(x) / 10, int(y) / 100\n",
    "\n",
    "\n",
    "    if(num==1):\n",
    "        f = open(\"5-trainingdata.txt\")\n",
    "    else:\n",
    "        f = open(\"5-testdata.txt\")\n",
    "    string = f.readline()\n",
    "    x_points = []\n",
    "    y_points = []\n",
    "    if(num==1):\n",
    "        edges = [read_data(f.readline()) for _ in range(32)]\n",
    "    else:\n",
    "        edges = [read_data(f.readline()) for _ in range(6)]\n",
    "    for x, y in edges:\n",
    "        x_points.append(x)\n",
    "        y_points.append(y)\n",
    "    f.close()\n",
    "    return edges,np.array(x_points), np.asarray(y_points)"
   ]
  },
  {
   "cell_type": "code",
   "execution_count": 8,
   "metadata": {},
   "outputs": [
    {
     "name": "stdout",
     "output_type": "stream",
     "text": [
      "Converged, iterations:  6935 !!!\n",
      "this theta0 is:  4.90627079504 and this theta1 is:  -0.134975822973 and this error is:  34.5656467306\n",
      "Max interactions exceeded!\n",
      "better theta0 is:  5.31575448533 and better theta1 is:  -0.219398743092 and better error is:  6.87174522796\n",
      "linear square error is:  1.75992346086\n",
      "huber error is:  0.871712651868\n",
      "Have done!!!\n"
     ]
    },
    {
     "data": {
      "image/png": "[encoded data removed]",
      "text/plain": [
       "<matplotlib.figure.Figure at 0x22050c7e8d0>"
      ]
     },
     "metadata": {},
     "output_type": "display_data"
    }
   ],
   "source": [
    "if __name__ == '__main__':\n",
    "    edges,x_points, y_points = read_file(1)\n",
    "    alpha = 0.01  # learning rate\n",
    "    accurancy = 1e-10  # convergence criteria\n",
    "    d=0.5\n",
    "\n",
    "    theta0, theta1, this_error = gradient_descent1(alpha, x_points, y_points, accurancy, max_iter=10000)\n",
    "    print(\"this theta0 is: \", theta0, \"and this theta1 is: \", theta1, \"and this error is: \", this_error)\n",
    "    best_theta0, best_theta1, best_error = gradient_descent2(alpha, x_points, y_points, d, accurancy, max_iter=10000)\n",
    "    print(\"better theta0 is: \", best_theta0, \"and better theta1 is: \", best_theta1, \"and better error is: \", best_error)\n",
    "\n",
    "\n",
    "    for i in range(x_points.shape[0]):\n",
    "        y_predict1 = theta0 + theta1 * x_points\n",
    "\n",
    "    for i in range(x_points.shape[0]):\n",
    "        y_predict2= best_theta0 + best_theta1 * x_points\n",
    "\n",
    "\n",
    "\n",
    "    test_edges, test_x_points, test_y_points = read_file(0)\n",
    "    test_m = test_x_points.shape[0]\n",
    "    test_error1 = sum([(theta0 + theta1 * test_x_points[i] - test_y_points[i]) ** 2 for i in range(test_m)])\n",
    "    # test_error2 = sum([ huber_loss((best_theta0 + best_theta1 * test_x_points[i] - test_y_points[i]), d) for i in range(test_m)])\n",
    "    test_error2 = sum([(best_theta0 + best_theta1 * test_x_points[i] - test_y_points[i]) ** 2 for i in range(test_m)])\n",
    "    print(\"linear square error is: \", test_error1)\n",
    "    print(\"huber error is: \", test_error2)\n",
    "    print(\"Have done!!!\")\n",
    "\n",
    "    pylab.plot(x_points, y_points, 'o')\n",
    "    pylab.plot(x_points, y_predict1, 'k-', color='red')\n",
    "    pylab.plot(x_points, y_predict2, 'k-', color='blue')\n",
    "    pylab.show()"
   ]
  }
 ],
 "metadata": {
  "kernelspec": {
   "display_name": "Python 3",
   "language": "python",
   "name": "python3"
  },
  "language_info": {
   "codemirror_mode": {
    "name": "ipython",
    "version": 3
   },
   "file_extension": ".py",
   "mimetype": "text/x-python",
   "name": "python",
   "nbconvert_exporter": "python",
   "pygments_lexer": "ipython3",
   "version": "3.6.3"
  }
 },
 "nbformat": 4,
 "nbformat_minor": 2
}
