{
 "cells": [
  {
   "cell_type": "code",
   "execution_count": 1,
   "metadata": {},
   "outputs": [
    {
     "name": "stdout",
     "output_type": "stream",
     "text": [
      "G:\\dd-resource\\slides\\homework\\ML\\HW1\n"
     ]
    }
   ],
   "source": [
    "cd G:\\dd-resource\\slides\\homework\\ML\\HW1"
   ]
  },
  {
   "cell_type": "markdown",
   "metadata": {},
   "source": [
    "# This is an implemetation of gradient_descent with RANSAC."
   ]
  },
  {
   "cell_type": "code",
   "execution_count": 2,
   "metadata": {},
   "outputs": [
    {
     "name": "stdout",
     "output_type": "stream",
     "text": [
      "this theta0 is:  4.90627073063 and this theta1 is:  -0.134975812309 and this error is:  34.5656467306\n"
     ]
    },
    {
     "name": "stderr",
     "output_type": "stream",
     "text": [
      "C:\\Users\\dell\\Anaconda3\\lib\\site-packages\\ipykernel_launcher.py:36: RuntimeWarning: overflow encountered in double_scalars\n",
      "C:\\Users\\dell\\Anaconda3\\lib\\site-packages\\ipykernel_launcher.py:38: RuntimeWarning: invalid value encountered in double_scalars\n",
      "C:\\Users\\dell\\Anaconda3\\lib\\site-packages\\ipykernel_launcher.py:25: RuntimeWarning: overflow encountered in double_scalars\n",
      "C:\\Users\\dell\\Anaconda3\\lib\\site-packages\\ipykernel_launcher.py:29: RuntimeWarning: invalid value encountered in double_scalars\n",
      "C:\\Users\\dell\\Anaconda3\\lib\\site-packages\\ipykernel_launcher.py:95: RuntimeWarning: overflow encountered in double_scalars\n"
     ]
    },
    {
     "name": "stdout",
     "output_type": "stream",
     "text": [
      "better theta0 is:  5.82505416164 and better theta1 is:  -0.333636425112 and better error is:  1.95343952232\n",
      "linear square error is:  1.75992360748\n",
      "robust error is:  0.208449999343\n"
     ]
    },
    {
     "data": {
      "image/png": "[encoded data removed]",
      "text/plain": [
       "<matplotlib.figure.Figure at 0x2af791345c0>"
      ]
     },
     "metadata": {},
     "output_type": "display_data"
    },
    {
     "name": "stdout",
     "output_type": "stream",
     "text": [
      "Have done!!!\n"
     ]
    }
   ],
   "source": [
    "import numpy as np\n",
    "import pylab\n",
    "import pandas as pd\n",
    "import random\n",
    "\n",
    "\n",
    "def gradient_descent(alpha, x, y, accurancy, max_iter):\n",
    "    converged = False\n",
    "    iter = 0\n",
    "    m = x.shape[0]  # number of samples\n",
    "\n",
    "    # initial theta\n",
    "    # random.seed(3)\n",
    "    t0 = np.random.random() #   5\n",
    "    t1 = np.random.random() #   -0.3\n",
    "\n",
    "\n",
    "    # total error, J(theta)\n",
    "    J = sum([(t0 + t1 * x[i] - y[i]) ** 2 for i in range(m)])\n",
    "\n",
    "    # Iterate Loop\n",
    "    while not converged:\n",
    "        # for each training sample, compute the gradient (d/d_theta j(theta))\n",
    "        grad0 = 1.0 / m * sum([(t0 + t1 * x[i] - y[i]) for i in range(m)])\n",
    "        grad1 = 1.0 / m * sum([(t0 + t1 * x[i] - y[i]) * x[i] for i in range(m)])\n",
    "\n",
    "        # update the theta_temp\n",
    "        temp0 = t0 - alpha * grad0\n",
    "        temp1 = t1 - alpha * grad1\n",
    "\n",
    "        # update theta\n",
    "        t0 = temp0\n",
    "        t1 = temp1\n",
    "\n",
    "        # mean squared error\n",
    "        e = sum([(t0 + t1 * x[i] - y[i]) ** 2 for i in range(m)])\n",
    "\n",
    "        if abs(J - e) <= accurancy:\n",
    "            # print(\"Converged, iterations: \", iter, \"!!!\")\n",
    "            converged = True\n",
    "\n",
    "        J = e  # update error\n",
    "        iter += 1  # update iter\n",
    "\n",
    "        if iter == max_iter:\n",
    "            # print(\"Max interactions exceeded!\")\n",
    "            converged = True\n",
    "\n",
    "    return t0, t1, J\n",
    "\n",
    "\n",
    "def read_file(num):\n",
    "    def read_data(edge):\n",
    "        x, y = edge.split()\n",
    "        return int(x) / 10, int(y) / 100\n",
    "\n",
    "\n",
    "    if(num==1):\n",
    "        f = open(\"5-trainingdata.txt\")\n",
    "    else:\n",
    "        f = open(\"5-testdata.txt\")\n",
    "    string = f.readline()\n",
    "    x_points = []\n",
    "    y_points = []\n",
    "    if(num==1):\n",
    "        edges = [read_data(f.readline()) for _ in range(32)]\n",
    "    else:\n",
    "        edges = [read_data(f.readline()) for _ in range(6)]\n",
    "    for x, y in edges:\n",
    "        x_points.append(x)\n",
    "        y_points.append(y)\n",
    "    f.close()\n",
    "    return edges,np.array(x_points), np.asarray(y_points)\n",
    "\n",
    "\n",
    "def ransac_robust(max_iter,edges,alpha,accurancy,threhold,dd):\n",
    "    best_theta0=0\n",
    "    best_theta1=0\n",
    "    best_error=float('inf')\n",
    "    iteration=0\n",
    "    maybe_inliers=[]\n",
    "    maybe_model=[]\n",
    "    best_inliers=[]\n",
    "    best_inliers_values=[]\n",
    "    while (iteration<max_iter):\n",
    "        maybe_data=random.sample(edges,2)\n",
    "        for x, y  in maybe_data:\n",
    "            maybe_inliers.append(x)\n",
    "            maybe_model.append(y)\n",
    "        theta0, theta1, this_error= gradient_descent(alpha, np.asarray(maybe_inliers), np.asarray(maybe_model), accurancy, max_iter=10000)\n",
    "        consensus_set=maybe_inliers\n",
    "        consensus_set_value = maybe_model\n",
    "        maybe_outliers=[edge for edge in edges if edge not in maybe_inliers]\n",
    "        for out_edge in maybe_outliers:\n",
    "            loss=(theta0 + theta1 * out_edge[0] - out_edge[1])**2\n",
    "            if (loss<threhold):\n",
    "                consensus_set.append(out_edge[0])\n",
    "                consensus_set_value.append(out_edge[1])\n",
    "            if(len(maybe_inliers)>dd):\n",
    "                break\n",
    "            better_theta0, better_theta1, best_error = gradient_descent(alpha, np.array(consensus_set), np.array(consensus_set_value), accurancy,\n",
    "                                          max_iter=10000)\n",
    "            if(this_error<best_error):\n",
    "                best_inliers=consensus_set\n",
    "                best_inliers_values=consensus_set_value\n",
    "                best_error=this_error\n",
    "                best_theta0=better_theta0\n",
    "                best_theta1=better_theta1\n",
    "        iteration=iteration+1\n",
    "    return best_theta0,best_theta1,best_error,best_inliers,best_inliers_values\n",
    "\n",
    "\n",
    "\n",
    "if __name__ == '__main__':\n",
    "    edges,x_points, y_points = read_file(1)\n",
    "    alpha = 0.01  # learning rate\n",
    "    accurancy = 1e-10  # convergence criteria\n",
    "    threhold=1e-10  # threhold: 决定数据是否适应于模型的阈值\n",
    "    dd=10   # dd: 适用于数据集的数据数目\n",
    "    theta0, theta1, this_error = gradient_descent(alpha, x_points, y_points, accurancy, max_iter=10000)\n",
    "    print(\"this theta0 is: \", theta0, \"and this theta1 is: \", theta1, \"and this error is: \", this_error)\n",
    "    #   theta0_initial=5~6, theta1_initial=-0.3~-0.4\n",
    "    best_theta0, best_theta1, best_error, best_inliers, best_inliers_values = ransac_robust(50,edges,0.05,accurancy,threhold,dd)\n",
    "    print(\"better theta0 is: \", best_theta0, \"and better theta1 is: \", best_theta1, \"and better error is: \", best_error)\n",
    "    arr = np.asarray(best_inliers)\n",
    "    for i in range(x_points.shape[0]):\n",
    "        y_predict1 = theta0 + theta1 * x_points\n",
    "\n",
    "\n",
    "    for i in range(arr.shape[0]):\n",
    "        y_predict2= best_theta0 + best_theta1 * arr\n",
    "\n",
    "    test_edges,test_x_points, test_y_points=read_file(0)\n",
    "    test_m=test_x_points.shape[0]\n",
    "    test_error1= sum([(theta0 + theta1 * test_x_points[i] - test_y_points[i]) ** 2 for i in range(test_m)])\n",
    "    test_error2= sum([(best_theta0 + best_theta1 * test_x_points[i] - test_y_points[i]) ** 2 for i in range(test_m)])\n",
    "    print(\"linear square error is: \", test_error1)\n",
    "    print(\"robust error is: \", test_error2)\n",
    "\n",
    "    pylab.plot(x_points, y_points, 'o')\n",
    "    pylab.plot(x_points, y_predict1, 'k-',color='red')\n",
    "    pylab.plot(arr, y_predict2, 'k-',color='blue')\n",
    "    pylab.show()\n",
    "    print(\"Have done!!!\")\n"
   ]
  }
 ],
 "metadata": {
  "kernelspec": {
   "display_name": "Python 3",
   "language": "python",
   "name": "python3"
  },
  "language_info": {
   "codemirror_mode": {
    "name": "ipython",
    "version": 3
   },
   "file_extension": ".py",
   "mimetype": "text/x-python",
   "name": "python",
   "nbconvert_exporter": "python",
   "pygments_lexer": "ipython3",
   "version": "3.6.3"
  }
 },
 "nbformat": 4,
 "nbformat_minor": 2
}
