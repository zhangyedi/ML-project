{
 "cells": [
  {
   "cell_type": "code",
   "execution_count": 1,
   "metadata": {},
   "outputs": [
    {
     "name": "stdout",
     "output_type": "stream",
     "text": [
      "G:\\dd-resource\\slides\\homework\\ML\\HW1\n"
     ]
    }
   ],
   "source": [
    "cd G:\\dd-resource\\slides\\homework\\ML\\HW1"
   ]
  },
  {
   "cell_type": "markdown",
   "metadata": {},
   "source": [
    "# This is an implemetation of gradient_descent."
   ]
  },
  {
   "cell_type": "code",
   "execution_count": 2,
   "metadata": {
    "collapsed": true
   },
   "outputs": [],
   "source": [
    "import numpy as np\n",
    "import pylab"
   ]
  },
  {
   "cell_type": "code",
   "execution_count": 3,
   "metadata": {
    "collapsed": true
   },
   "outputs": [],
   "source": [
    "def gradient_descent(alpha, x, y, accurancy, max_iter=10000):\n",
    "    converged = False\n",
    "    iter = 0\n",
    "    m = x.shape[0]  # number of samples\n",
    "\n",
    "    # initial theta\n",
    "    # np.random.seed(1)\n",
    "    t0 = np.random.random()\n",
    "    t1 = np.random.random()\n",
    "\n",
    "    # total error, J(theta)\n",
    "    J = sum([(t0 + t1 * x[i] - y[i]) ** 2 for i in range(m)])\n",
    "\n",
    "    # Iterate Loop\n",
    "    while not converged:\n",
    "        # for each training sample, compute the gradient (d/d_theta j(theta))\n",
    "        grad0 = 1.0 / m * sum([(t0 + t1 * x[i] - y[i]) for i in range(m)])\n",
    "        grad1 = 1.0 / m * sum([(t0 + t1 * x[i] - y[i]) * x[i] for i in range(m)])\n",
    "\n",
    "        # update the theta_temp\n",
    "        temp0 = t0 - alpha * grad0\n",
    "        temp1 = t1 - alpha * grad1\n",
    "\n",
    "        # update theta\n",
    "        t0 = temp0\n",
    "        t1 = temp1\n",
    "\n",
    "        # mean squared error\n",
    "        e = sum([(t0 + t1 * x[i] - y[i]) ** 2 for i in range(m)])\n",
    "\n",
    "        if abs(J - e) <= accurancy:\n",
    "            print(\"Converged, iterations: \", iter, \"!!!\")\n",
    "            converged = True\n",
    "\n",
    "        J = e  # update error\n",
    "        iter += 1  # update iter\n",
    "\n",
    "        if iter == max_iter:\n",
    "            print(\"Max interactions exceeded!\")\n",
    "            converged = True\n",
    "\n",
    "    return t0, t1, J"
   ]
  },
  {
   "cell_type": "code",
   "execution_count": 4,
   "metadata": {
    "collapsed": true
   },
   "outputs": [],
   "source": [
    "def read_file():\n",
    "    def read_data(edge):\n",
    "        x, y = edge.split()\n",
    "        return int(x) / 10, int(y) / 100\n",
    "\n",
    "    f = open(\"4-data.txt\")\n",
    "    #f = open(\"5-trainingdata.txt\")\n",
    "    string = f.readline()\n",
    "    x_points = []\n",
    "    y_points = []\n",
    "    edges = [read_data(f.readline()) for _ in range(30)]\n",
    "    for x, y in edges:\n",
    "        x_points.append(x)\n",
    "        y_points.append(y)\n",
    "    print(edges, x_points)\n",
    "    print(x_points)\n",
    "    print(y_points)\n",
    "    f.close()\n",
    "    return np.array(x_points), np.asarray(y_points)"
   ]
  },
  {
   "cell_type": "code",
   "execution_count": 5,
   "metadata": {},
   "outputs": [
    {
     "name": "stdout",
     "output_type": "stream",
     "text": [
      "[(1.8, 5.1), (2.0, 5.9), (2.2, 5.6), (2.3, 5.1), (2.3, 4.6), (2.5, 4.9), (2.7, 5.6), (2.8, 5.1), (2.9, 4.6), (3.2, 4.1), (3.7, 4.2), (4.1, 4.6), (4.6, 4.5), (4.9, 3.8), (5.3, 4.6), (5.5, 4.2), (6.3, 3.5), (6.5, 4.2), (6.6, 3.0), (6.7, 4.1), (6.8, 3.0), (7.0, 3.9), (7.1, 3.2), (7.2, 3.7), (7.3, 2.8), (7.4, 4.2), (7.5, 4.6), (7.7, 3.6), (7.9, 3.1), (8.2, 3.6)] [1.8, 2.0, 2.2, 2.3, 2.3, 2.5, 2.7, 2.8, 2.9, 3.2, 3.7, 4.1, 4.6, 4.9, 5.3, 5.5, 6.3, 6.5, 6.6, 6.7, 6.8, 7.0, 7.1, 7.2, 7.3, 7.4, 7.5, 7.7, 7.9, 8.2]\n",
      "[1.8, 2.0, 2.2, 2.3, 2.3, 2.5, 2.7, 2.8, 2.9, 3.2, 3.7, 4.1, 4.6, 4.9, 5.3, 5.5, 6.3, 6.5, 6.6, 6.7, 6.8, 7.0, 7.1, 7.2, 7.3, 7.4, 7.5, 7.7, 7.9, 8.2]\n",
      "[5.1, 5.9, 5.6, 5.1, 4.6, 4.9, 5.6, 5.1, 4.6, 4.1, 4.2, 4.6, 4.5, 3.8, 4.6, 4.2, 3.5, 4.2, 3.0, 4.1, 3.0, 3.9, 3.2, 3.7, 2.8, 4.2, 4.6, 3.6, 3.1, 3.6]\n",
      "Converged, iterations:  7518 !!!\n",
      "theta0 is:  5.76673217901 and theta1 is:  -0.300668932388 and the error is:  6.93340244837\n"
     ]
    },
    {
     "data": {
      "image/png": "[encoded data removed]",
      "text/plain": [
       "<matplotlib.figure.Figure at 0x1f7f964a080>"
      ]
     },
     "metadata": {},
     "output_type": "display_data"
    },
    {
     "name": "stdout",
     "output_type": "stream",
     "text": [
      "Have done!!!\n"
     ]
    }
   ],
   "source": [
    "if __name__ == '__main__':\n",
    "    x_points, y_points = read_file()\n",
    "    alpha = 0.01  # learning rate\n",
    "    accurancy = 1e-10  # convergence criteria\n",
    "    theta0, theta1 ,error= gradient_descent(alpha, x_points, y_points, accurancy, max_iter=10000)\n",
    "    print(\"theta0 is: \", theta0, \"and theta1 is: \", theta1, \"and the error is: \", error)\n",
    "    for i in range(x_points.shape[0]):\n",
    "        y_predict = theta0 + theta1 * x_points\n",
    "    pylab.plot(x_points, y_points, 'o', color='red')\n",
    "    pylab.plot(x_points, y_predict, 'k-',color='blue')\n",
    "    pylab.show()\n",
    "    print(\"Have done!!!\")"
   ]
  }
 ],
 "metadata": {
  "kernelspec": {
   "display_name": "Python 3",
   "language": "python",
   "name": "python3"
  },
  "language_info": {
   "codemirror_mode": {
    "name": "ipython",
    "version": 3
   },
   "file_extension": ".py",
   "mimetype": "text/x-python",
   "name": "python",
   "nbconvert_exporter": "python",
   "pygments_lexer": "ipython3",
   "version": "3.6.3"
  }
 },
 "nbformat": 4,
 "nbformat_minor": 2
}
