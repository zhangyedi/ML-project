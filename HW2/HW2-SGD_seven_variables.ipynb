{
 "cells": [
  {
   "cell_type": "code",
   "execution_count": 1,
   "metadata": {},
   "outputs": [
    {
     "name": "stdout",
     "output_type": "stream",
     "text": [
      "G:\\dd-resource\\slides\\homework\\ML\\HW2\n"
     ]
    }
   ],
   "source": [
    "cd G:\\dd-resource\\slides\\homework\\ML\\HW2"
   ]
  },
  {
   "cell_type": "markdown",
   "metadata": {},
   "source": [
    "# This is an implemetation of stochastic gradient_descent with seven variables."
   ]
  },
  {
   "cell_type": "code",
   "execution_count": 2,
   "metadata": {},
   "outputs": [
    {
     "name": "stdout",
     "output_type": "stream",
     "text": [
      "Max interactions exceeded!\n",
      "SST is:  0.9758878465301378\n",
      "SSE is:  0.5412918545105962\n",
      "theta is:  [[-0.17074505768209894]\n",
      " [0.356219472150827]\n",
      " [-0.06231676830757543]\n",
      " [-0.13263612507901934]\n",
      " [0.625865656642821]\n",
      " [-0.20649752454838372]\n",
      " [0.3306847487593777]\n",
      " [0.701904624040503]] loss is:  0.2706459272552981 and the R-square is:  0.4453339526307136\n"
     ]
    },
    {
     "data": {
      "image/png": "[encoded data removed]",
      "text/plain": [
       "<matplotlib.figure.Figure at 0x1ec185818d0>"
      ]
     },
     "metadata": {},
     "output_type": "display_data"
    },
    {
     "data": {
      "image/png": "[encoded data removed]",
      "text/plain": [
       "<matplotlib.figure.Figure at 0x1ec1893ba90>"
      ]
     },
     "metadata": {},
     "output_type": "display_data"
    }
   ],
   "source": [
    "import pandas as pd\n",
    "import pylab\n",
    "from pylab import *\n",
    "import matplotlib.pyplot as plt\n",
    "\n",
    "\n",
    "# this is the code for problem 3-2, 7 variants are considered.\n",
    "\n",
    "def stochastic_gradient_descent(alpha, X, y, max_iter):\n",
    "    iter = 0\n",
    "    m, n = X.shape  # num of samples: m=804 ; num of varibales : n=8\n",
    "\n",
    "    theta = np.random.rand(n, 1)  # init theta: shape is (n,1)\n",
    "    y_predict = X.dot(theta)  # get the predict value of price, X is a matrix\n",
    "\n",
    "    batch = 10\n",
    "    # total error, J(theta)\n",
    "    J = 0.5 * sum([(y_predict[i] - y[i]) ** 2 for i in range(m)]) / m\n",
    "\n",
    "    itertimes = []\n",
    "    Jinit = 0\n",
    "    loss_history = []\n",
    "    iter_over = False\n",
    "\n",
    "    # Iterate Loop\n",
    "    while not iter_over:\n",
    "\n",
    "        # for each training sample, compute the gradient (d/d_theta j(theta))\n",
    "        r = np.random.permutation(m)  # 打乱顺序\n",
    "        X_training = X[r[0:batch], :]  # shape=(batch, n)， 提取打乱顺序后的前batch个sample\n",
    "        y_training = y[r[0:batch], :]  # shape=(batch, 1)\n",
    "        y_predict_traing = y_predict[r[0:batch], :]\n",
    "\n",
    "        # get the gradient\n",
    "        d_theta = X_training.T.dot(y_predict_traing - y_training) / batch  # (n, 1)\n",
    "\n",
    "        # update, get the new theta, y_predict, loss in this iteration, store the residuals for analysis\n",
    "        theta = theta - alpha * d_theta\n",
    "        y_predict = X.dot(theta)\n",
    "        loss = 0.5 * sum([(y_predict[i] - y[i]) ** 2 for i in range(m)]) / m\n",
    "        res = y_predict - y\n",
    "\n",
    "        J = loss  # update error\n",
    "        Jinit = Jinit + J\n",
    "        base = 50\n",
    "\n",
    "        iter += 1  # update iter\n",
    "        if (iter % base == 0):\n",
    "            loss_history.append(Jinit / base)\n",
    "            itertimes.append(iter)\n",
    "            Jinit = 0\n",
    "\n",
    "        if iter == max_iter:\n",
    "            print(\"Max interactions exceeded!\")\n",
    "            iter_over = True\n",
    "\n",
    "    figure(1)\n",
    "    pylab.plot(itertimes, loss_history, 'k-', color='purple')\n",
    "    return theta, J, res\n",
    "\n",
    "\n",
    "def read_data(path):\n",
    "    data = pd.read_excel(path)\n",
    "    return data\n",
    "\n",
    "\n",
    "def process_data(path):\n",
    "    data = read_data(path)\n",
    "    return np.asarray(data)\n",
    "\n",
    "\n",
    "if __name__ == '__main__':\n",
    "    path = 'G:\\dd-resource\\slides\\homework\\ML_project\\HW2\\car_data.xls'\n",
    "    data = process_data(path)\n",
    "    alpha = 0.01 # step in each iteration\n",
    "    price = data[:, 0].reshape(-1, 1) / 10000  # array, from (804,) to (804, 1)\n",
    "    avr_price = sum([price[i] for i in range(price.shape[0])]) / price.shape[0]\n",
    "\n",
    "    X = data[:, list([1, 6, 7, 8, 9, 10, 11])]\n",
    "    X[:, 0] /= 10000 # preprocess the data: mileage\n",
    "    X = np.hstack((X, np.ones((X.shape[0], 1)))).astype(np.float64) # add another t0\n",
    "\n",
    "    theta, loss, res = stochastic_gradient_descent(alpha, X, price, 5000)\n",
    "    SSE = loss * 2\n",
    "    SST = sum([(avr_price - price[i]) ** 2 for i in range(price.shape[0])]) / price.shape[0]\n",
    "    print(\"SST is: \", SST)\n",
    "    print(\"SSE is: \", SSE)\n",
    "    RS = 1 - SSE / SST\n",
    "    print(\"theta is: \", theta, \"loss is: \", loss, \"and the R-square is: \", RS)\n",
    "\n",
    "    figure(2)\n",
    "    plt.hist(res, 40, color='green')\n",
    "    plt.ylabel('Frequency')\n",
    "    plt.xlabel('Residual')\n",
    "    plt.title('Histogram of the Residuals')\n",
    "\n",
    "    figure(1)\n",
    "    savefig('fig1')\n",
    "    figure(2)\n",
    "    savefig('fig2')\n",
    "    pylab.show()\n"
   ]
  }
 ],
 "metadata": {
  "kernelspec": {
   "display_name": "Python 3",
   "language": "python",
   "name": "python3"
  },
  "language_info": {
   "codemirror_mode": {
    "name": "ipython",
    "version": 3
   },
   "file_extension": ".py",
   "mimetype": "text/x-python",
   "name": "python",
   "nbconvert_exporter": "python",
   "pygments_lexer": "ipython3",
   "version": "3.6.3"
  }
 },
 "nbformat": 4,
 "nbformat_minor": 2
}
